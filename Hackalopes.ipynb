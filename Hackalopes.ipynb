{
 "cells": [
  {
   "attachments": {},
   "cell_type": "markdown",
   "metadata": {},
   "source": [
    "___\n",
    "\n",
    "# Energy A.I. Hackathon 2023 Workflow - Hackalopes \n",
    "\n",
    "#### Authors:   \n",
    "<h4>  \n",
    "\n",
    "**Richard Larson** - Energy and Earth Resources - *Jackson*  \n",
    "**Karthik Menon** - Energy and Earth Resources - *Jackson*   \n",
    "**Daniel Pang** - Petroleum and Geosystems Engineering - *Cockrell*    \n",
    "**Benjamin Stormer** - Walker Department of Mechanical Engineering - *Cockrell* \n",
    "\n",
    "</h4> \n",
    "\n",
    "#### The University of Texas at Austin, Austin, Texas USA \n",
    "___\n",
    "\n",
    "### Executive Summary \n",
    "\n",
    "We need to predict whether or not 40 Electronic Submersible Pumps (ESP) will fail or not within 30 days. To create our predictions, we developed a data analytics and machine learning workflow in Python. We found that ... We recommend that ..., ..., and ... be used to evaluate the lifespan of ESPs in the future.\n",
    "\n",
    "___\n",
    "\n",
    "### Workflow Goal\n",
    "\n",
    "1-2 sentences \n",
    "___\n",
    "\n",
    "### Workflow Steps \n",
    "\n",
    "Enumerated steps, very short and concise overview of your methods and workflow\n",
    "\n",
    "1. **Data Analysis** - basic data checking and visualization\n",
    "2. **Feature Selection** - mutual information-based approach with minimum redundancy, maximum relevance score\n",
    "3. **Machine Learning Model \\#1** - Predict feature $X$ from $Y,Z$\n",
    "\n",
    "$\\ldots$\n"
   ]
  },
  {
   "cell_type": "markdown",
   "metadata": {},
   "source": [
    "### Import Packages"
   ]
  },
  {
   "cell_type": "code",
   "execution_count": 4,
   "metadata": {},
   "outputs": [],
   "source": [
    "import numpy as np                                      # model arrays\n",
    "import pandas as pd                                     # DataFrames\n",
    "import matplotlib.pyplot as plt                         # building plots\n",
    "import os                                               # accessing the operating system"
   ]
  },
  {
   "attachments": {},
   "cell_type": "markdown",
   "metadata": {},
   "source": [
    "### Load Data\n",
    "\n",
    "The following workflow applies the .csv files 'wellData.csv' and 'dailyData.csv'. 'wellData.csv' is a collection of ... 'dailyData.csv' is a collection of ... The datasets were made available to competitors as part of the UT Austin 2023 PGE Hackathon.\n",
    "\n",
    "We will work with the following features:\n",
    "\n",
    "# YET TO BE DETERMIND, CHANGE LATER\n",
    "* **porosity** - fraction of rock void in units of percentage\n",
    "* **permeability** - ability of a fluid to flow through the rock in mil;iDarcy\n",
    "* **acoustic impedence** - product of sonic velocity and rock density in unitsof $kg/m^2s*10^3$"
   ]
  },
  {
   "cell_type": "code",
   "execution_count": 5,
   "metadata": {},
   "outputs": [],
   "source": [
    "# Relative paths used since assumption is that user is in root directory of forked Git repo.\n",
    "well_data = pd.read_csv(\"../Hackalopes/wellData.csv\")                  # load the well data in\n",
    "daily_data = pd.read_csv(\"../Hackalopes/dailyData.csv\")                # load the daily data in"
   ]
  },
  {
   "cell_type": "markdown",
   "metadata": {},
   "source": [
    "### Functions\n",
    "\n",
    "The following functions will be used in the workflow."
   ]
  },
  {
   "cell_type": "code",
   "execution_count": 6,
   "metadata": {},
   "outputs": [],
   "source": [
    "def plot_corr(dataframe,size=10):                       # plots a correlation matrix as a heat map \n",
    "    corr = dataframe.corr()\n",
    "    fig, ax = plt.subplots(figsize=(size, size))\n",
    "    im = ax.matshow(corr,vmin = -1.0, vmax = 1.0)\n",
    "    plt.xticks(range(len(corr.columns)), corr.columns);\n",
    "    plt.yticks(range(len(corr.columns)), corr.columns);\n",
    "    plt.colorbar(im, orientation = 'vertical')\n",
    "    plt.title('Correlation Matrix')"
   ]
  },
  {
   "attachments": {},
   "cell_type": "markdown",
   "metadata": {},
   "source": [
    "### Basic Data Checking and Visualization\n",
    "\n",
    "Since our method relies on the assumption of pairwise correlation, we check the correlation matrix and confirm this. \n",
    "\n",
    "* the absolute pairwise correlations exceed 0.6 for por and logperm, por and AI, AI and TOC etc. "
   ]
  },
  {
   "cell_type": "code",
   "execution_count": 7,
   "metadata": {},
   "outputs": [
    {
     "ename": "NameError",
     "evalue": "name 'my_data' is not defined",
     "output_type": "error",
     "traceback": [
      "\u001b[1;31m---------------------------------------------------------------------------\u001b[0m",
      "\u001b[1;31mNameError\u001b[0m                                 Traceback (most recent call last)",
      "\u001b[1;32mc:\\Users\\benja\\Documents\\2023 PGE Hackathon\\Hackalopes\\Hackalopes.ipynb Cell 9\u001b[0m in \u001b[0;36m<cell line: 1>\u001b[1;34m()\u001b[0m\n\u001b[1;32m----> <a href='vscode-notebook-cell:/c%3A/Users/benja/Documents/2023%20PGE%20Hackathon/Hackalopes/Hackalopes.ipynb#X11sZmlsZQ%3D%3D?line=0'>1</a>\u001b[0m plot_corr(my_data,size \u001b[39m=\u001b[39m \u001b[39m7\u001b[39m)\n",
      "\u001b[1;31mNameError\u001b[0m: name 'my_data' is not defined"
     ]
    }
   ],
   "source": [
    "plot_corr(my_data,size = 7)"
   ]
  }
 ],
 "metadata": {
  "kernelspec": {
   "display_name": "base",
   "language": "python",
   "name": "python3"
  },
  "language_info": {
   "codemirror_mode": {
    "name": "ipython",
    "version": 3
   },
   "file_extension": ".py",
   "mimetype": "text/x-python",
   "name": "python",
   "nbconvert_exporter": "python",
   "pygments_lexer": "ipython3",
   "version": "3.9.12"
  },
  "vscode": {
   "interpreter": {
    "hash": "043433d6b18bdeb8544c06540320f4c494e406f840db1fa6d3d1188f7786a55f"
   }
  }
 },
 "nbformat": 4,
 "nbformat_minor": 2
}
